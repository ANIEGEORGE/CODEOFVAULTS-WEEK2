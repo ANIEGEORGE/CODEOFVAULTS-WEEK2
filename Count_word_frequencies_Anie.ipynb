{
 "cells": [
  {
   "cell_type": "code",
   "execution_count": 5,
   "id": "d8b6f065",
   "metadata": {},
   "outputs": [
    {
     "name": "stdout",
     "output_type": "stream",
     "text": [
      "Hey,: 1\n",
      "I: 1\n",
      "am: 1\n",
      "Anie: 1\n"
     ]
    }
   ],
   "source": [
    "def count_word_frequencies(text):\n",
    "    # Tokenize the text into words\n",
    "    words = text.split()\n",
    "\n",
    "    # Create a dictionary to store word frequencies\n",
    "    word_freq = {}\n",
    "\n",
    "    # Iterate through the words and update the frequency count\n",
    "    for word in words:\n",
    "        # Use get() method to initialize the count to 0 if the word is not present\n",
    "        word_freq[word] = word_freq.get(word, 0) + 1\n",
    "\n",
    "    return word_freq\n",
    "\n",
    "# Example usage\n",
    "text = \"Hey, I am Anie\"\n",
    "frequencies = count_word_frequencies(text)\n",
    "\n",
    "# Display the result\n",
    "for word, count in frequencies.items():\n",
    "    print(f\"{word}: {count}\")\n"
   ]
  }
 ],
 "metadata": {
  "kernelspec": {
   "display_name": "Python 3 (ipykernel)",
   "language": "python",
   "name": "python3"
  },
  "language_info": {
   "codemirror_mode": {
    "name": "ipython",
    "version": 3
   },
   "file_extension": ".py",
   "mimetype": "text/x-python",
   "name": "python",
   "nbconvert_exporter": "python",
   "pygments_lexer": "ipython3",
   "version": "3.11.5"
  }
 },
 "nbformat": 4,
 "nbformat_minor": 5
}
